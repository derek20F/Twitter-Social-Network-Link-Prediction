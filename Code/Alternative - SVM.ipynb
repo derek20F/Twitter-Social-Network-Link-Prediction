{
 "cells": [
  {
   "cell_type": "code",
   "execution_count": 95,
   "metadata": {},
   "outputs": [],
   "source": [
    "import pandas as pd\n",
    "import numpy as np\n",
    "import matplotlib.pyplot as plt\n",
    "from sklearn.datasets import make_blobs"
   ]
  },
  {
   "cell_type": "markdown",
   "metadata": {},
   "source": [
    "# Load data - train/ test"
   ]
  },
  {
   "cell_type": "code",
   "execution_count": 140,
   "metadata": {},
   "outputs": [],
   "source": [
    "# features_list = ['source_node', 'destination_node','indicator_link','jaccard_followers', 'jaccard_followees', 'cosine_followers',\n",
    "#        'cosine_followees', 'num_followers_s', 'num_followers_d',\n",
    "#        'num_followees_s', 'num_followees_d', 'inter_followers', 'inter_followees']\n",
    "#train = pd.read_csv('data_from_train/1st_features_train.csv', header = None)\n",
    "\n",
    "features_list = ['source_node', 'destination_node','indicator_link','jaccard_followers', 'jaccard_followees', 'cosine_followers',\n",
    "       'cosine_followees', 'num_followers_s', 'num_followers_d',\n",
    "       'num_followees_s', 'num_followees_d', 'inter_followers',\n",
    "       'inter_followees', 'adar_index', 'follows_back', 'same_comp',\n",
    "       'shortest_path', 'page_rank_s', 'page_rank_d', 'katz_s', 'katz_d',\n",
    "       'hubs_s', 'hubs_d', 'authorities_s', 'authorities_d']\n",
    "train = pd.read_csv('data/features_train.csv', header = None)"
   ]
  },
  {
   "cell_type": "code",
   "execution_count": 141,
   "metadata": {},
   "outputs": [],
   "source": [
    "train.columns = features_list\n",
    "#test.columns = features_list"
   ]
  },
  {
   "cell_type": "code",
   "execution_count": 142,
   "metadata": {},
   "outputs": [],
   "source": [
    "y = train['indicator_link']\n",
    "X = train.drop(['source_node', 'destination_node','indicator_link'],axis=1, inplace=False)\n",
    "column_list = X.columns"
   ]
  },
  {
   "cell_type": "markdown",
   "metadata": {},
   "source": [
    "# Feature engineering"
   ]
  },
  {
   "cell_type": "code",
   "execution_count": 143,
   "metadata": {},
   "outputs": [],
   "source": [
    "# feature proprocessing - normalisation\n",
    "import sklearn.preprocessing as pp\n",
    "\n",
    "min_max_scaler = pp.MinMaxScaler()\n",
    "X = min_max_scaler.fit_transform(X)"
   ]
  },
  {
   "cell_type": "raw",
   "metadata": {},
   "source": [
    "import seaborn as sns\n",
    "# pearson correlation\n",
    "X = pd.DataFrame(X, columns = column_list)\n",
    "plt.figure(figsize = (30,10))\n",
    "cor = X.corr()\n",
    "sns.heatmap(cor, annot = True, cmap = plt.cm.Reds)\n",
    "plt.show()"
   ]
  },
  {
   "cell_type": "raw",
   "metadata": {},
   "source": [
    "# feature selection - filter\n",
    "\n",
    "from sklearn.svm import SVC\n",
    "from sklearn.feature_selection import RFECV\n",
    "from sklearn.model_selection import StratifiedKFold"
   ]
  },
  {
   "cell_type": "raw",
   "metadata": {},
   "source": [
    "# stratifiedKFold is cross-validator, here we devide the whole data set into 5 portions\n",
    "svc = SVC(kernel=\"linear\")\n",
    "\n",
    "#StratifiedKFold(n_splits = 1, random_state = 1, shuffle = True)\n",
    "rfecv = RFECV(estimator=svc, step = 1, cv = 4, scoring='roc_auc'"
   ]
  },
  {
   "cell_type": "raw",
   "metadata": {},
   "source": [
    "import time\n",
    "\n",
    "start_time = time.time()\n",
    "selector = rfecv.fit(X, y)\n",
    "\n",
    "print(\"--- %s seconds ---\" % (time.time() - start_time))"
   ]
  },
  {
   "cell_type": "raw",
   "metadata": {},
   "source": [
    "print(\"supporting: \", selector.support_)\n",
    "print(\"ranking: \", selector.ranking_)"
   ]
  },
  {
   "cell_type": "code",
   "execution_count": 112,
   "metadata": {},
   "outputs": [
    {
     "name": "stdout",
     "output_type": "stream",
     "text": [
      "Optimal number of features : 16\n"
     ]
    },
    {
     "data": {
      "image/png": "[encoded data removed]",
      "text/plain": [
       "<Figure size 432x288 with 1 Axes>"
      ]
     },
     "metadata": {
      "needs_background": "light"
     },
     "output_type": "display_data"
    }
   ],
   "source": [
    "print(\"Optimal number of features : %d\" % rfecv.n_features_)\n",
    "# Plot number of features VS. cross-validation scores\n",
    "plt.figure()\n",
    "plt.xlabel(\"Number of features selected\")\n",
    "plt.ylabel(\"Cross validation score (nb of correct classifications)\")\n",
    "plt.plot(range(1, len(rfecv.grid_scores_) + 1), rfecv.grid_scores_)\n",
    "plt.show()\n"
   ]
  },
  {
   "cell_type": "code",
   "execution_count": 144,
   "metadata": {},
   "outputs": [
    {
     "name": "stdout",
     "output_type": "stream",
     "text": [
      "(50000, 22)\n"
     ]
    }
   ],
   "source": [
    "# KBest\n",
    "from sklearn.feature_selection import chi2, SelectKBest\n",
    "print(X.shape)\n",
    "X_new5 = SelectKBest(chi2, k=5).fit_transform(X, y)\n",
    "\n",
    "# k = 5 or 8"
   ]
  },
  {
   "cell_type": "code",
   "execution_count": 148,
   "metadata": {
    "collapsed": true,
    "jupyter": {
     "outputs_hidden": true
    }
   },
   "outputs": [
    {
     "name": "stdout",
     "output_type": "stream",
     "text": [
      "(50000, 22)\n"
     ]
    }
   ],
   "source": [
    "from sklearn.feature_selection import chi2, SelectKBest\n",
    "X_new8 = SelectKBest(chi2, k=8).fit_transform(X, y)"
   ]
  },
  {
   "cell_type": "code",
   "execution_count": 149,
   "metadata": {},
   "outputs": [
    {
     "name": "stdout",
     "output_type": "stream",
     "text": [
      "(50000, 8)\n"
     ]
    }
   ],
   "source": [
    "print(X_new8.shape)"
   ]
  },
  {
   "cell_type": "code",
   "execution_count": 150,
   "metadata": {},
   "outputs": [],
   "source": [
    "X = np.array(X)\n",
    "y = np.array(y)"
   ]
  },
  {
   "cell_type": "code",
   "execution_count": 155,
   "metadata": {},
   "outputs": [
    {
     "data": {
      "text/plain": [
       "array([0.04692988, 0.37339056, 0.11718735, 0.42857143, 0.04202365,\n",
       "       0.41532546, 0.06507199, 0.94248748])"
      ]
     },
     "execution_count": 155,
     "metadata": {},
     "output_type": "execute_result"
    }
   ],
   "source": [
    "X_new8[6]"
   ]
  },
  {
   "cell_type": "code",
   "execution_count": 116,
   "metadata": {},
   "outputs": [
    {
     "data": {
      "text/plain": [
       "Index(['jaccard_followers', 'jaccard_followees', 'cosine_followers',\n",
       "       'cosine_followees', 'num_followers_s', 'num_followers_d',\n",
       "       'num_followees_s', 'num_followees_d', 'inter_followers',\n",
       "       'inter_followees', 'adar_index', 'follows_back', 'same_comp',\n",
       "       'shortest_path', 'page_rank_s', 'page_rank_d', 'katz_s', 'katz_d',\n",
       "       'hubs_s', 'hubs_d', 'authorities_s', 'authorities_d'],\n",
       "      dtype='object')"
      ]
     },
     "execution_count": 116,
     "metadata": {},
     "output_type": "execute_result"
    }
   ],
   "source": [
    "column_list[:]"
   ]
  },
  {
   "cell_type": "raw",
   "metadata": {},
   "source": [
    "X = train[['jaccard_followers', 'jaccard_followees', 'cosine_followers',\n",
    "       'cosine_followees', 'num_followers_s', 'num_followers_d',\n",
    "       'num_followees_s','inter_followers','same_comp',\n",
    "       'shortest_path', 'page_rank_s', 'page_rank_d', 'katz_s', 'katz_d',\n",
    "       'hubs_s','authorities_d']]"
   ]
  },
  {
   "cell_type": "code",
   "execution_count": 214,
   "metadata": {},
   "outputs": [],
   "source": [
    "from sklearn.model_selection import train_test_split\n",
    "X_train, X_test, y_train, y_test = train_test_split(X_new8, y, test_size = 0.2, random_state = 1, shuffle = True)\n",
    "#X_train, X_test, y_train, y_test = train_test_split(X, y, test_size = 0.2, random_state = 1, shuffle = True)"
   ]
  },
  {
   "cell_type": "code",
   "execution_count": null,
   "metadata": {},
   "outputs": [],
   "source": []
  },
  {
   "cell_type": "markdown",
   "metadata": {},
   "source": [
    "# Modelling SVM"
   ]
  },
  {
   "cell_type": "code",
   "execution_count": 157,
   "metadata": {},
   "outputs": [],
   "source": [
    "import sklearn.svm as svm"
   ]
  },
  {
   "cell_type": "raw",
   "metadata": {},
   "source": [
    "# find the best parameters\n",
    "rom sklearn.model_selection import GridSearchCV\n",
    "\n",
    "model = svm.SVC()\n",
    "params = { 'C' : [0.1, 0.5, 1.0],\n",
    "          'kernel' : ['sigmoid','rbf'],\n",
    "          #[’rbf’,‘linear’, ‘poly’, ‘sigmoid’, ‘precomputed’],\n",
    "          #'probability' : [True],\n",
    "          #'class_weight' : [None, 'balanced'],\n",
    "          #'decision_function_shape' : ['ovo', 'ovr']      \n",
    "        }\n",
    "model1 = GridSearchCV(model, param_grid = params, n_jobs=1)\n"
   ]
  },
  {
   "cell_type": "markdown",
   "metadata": {},
   "source": [
    "model1.fit(X_train,y_train)"
   ]
  },
  {
   "cell_type": "code",
   "execution_count": 215,
   "metadata": {},
   "outputs": [
    {
     "data": {
      "text/plain": [
       "SVC(C=0.001, gamma=0.5)"
      ]
     },
     "execution_count": 215,
     "metadata": {},
     "output_type": "execute_result"
    }
   ],
   "source": [
    "real_svm = svm.SVC(C=0.001, kernel='rbf', gamma = 0.5, probability= False)\n",
    "real_svm.fit(X_train,y_train)\n",
    "\n",
    "\n",
    "# {'C': scipy.stats.expon(scale=100), 'gamma': scipy.stats.expon(scale=.1),\n",
    "#   'kernel': ['rbf'], 'class_weight':['balanced', None]}"
   ]
  },
  {
   "cell_type": "code",
   "execution_count": 216,
   "metadata": {},
   "outputs": [],
   "source": [
    "prediction=real_svm.predict(X_test)"
   ]
  },
  {
   "cell_type": "code",
   "execution_count": 217,
   "metadata": {},
   "outputs": [
    {
     "name": "stdout",
     "output_type": "stream",
     "text": [
      "Accuracy: 0.9496\n"
     ]
    },
    {
     "data": {
      "text/plain": [
       "<matplotlib.axes._subplots.AxesSubplot at 0x118aec220>"
      ]
     },
     "execution_count": 217,
     "metadata": {},
     "output_type": "execute_result"
    },
    {
     "data": {
      "image/png": "[encoded data removed]",
      "text/plain": [
       "<Figure size 432x288 with 2 Axes>"
      ]
     },
     "metadata": {
      "needs_background": "light"
     },
     "output_type": "display_data"
    }
   ],
   "source": [
    "from sklearn import metrics\n",
    "\n",
    "# print(\"Best Hyper Parameters:\\n\",model1.best_params_)\n",
    "\n",
    "#Prediction\n",
    "#prediction=real_svm.predict(X_test)\n",
    "print(\"Accuracy:\", metrics.accuracy_score(prediction,y_test))\n",
    "#evaluation(Confusion Metrix)\n",
    "cm = metrics.confusion_matrix(prediction, y_test)\n",
    "sns.heatmap(cm, annot = True, fmt='g')\n",
    "\n",
    "# top5, gamma = 0.5, C = 1.0 > 1 wrong predict 27/ 0 wrong 211\n",
    "# top5, gamma = 0.5, C = 0.001 > 1 wrong predict 10/ 0 wrong 601\n",
    "# top 8 gamma = 0.5, C = 0.001 > 1 wrong predict 12 / 0 wrong 492"
   ]
  },
  {
   "cell_type": "code",
   "execution_count": 218,
   "metadata": {},
   "outputs": [
    {
     "data": {
      "image/png": "[encoded data removed]",
      "text/plain": [
       "<Figure size 432x288 with 1 Axes>"
      ]
     },
     "metadata": {
      "needs_background": "light"
     },
     "output_type": "display_data"
    }
   ],
   "source": [
    "from sklearn.metrics import roc_curve, auc\n",
    "fpr,tpr, thresholds = roc_curve(y_test, prediction)\n",
    "auc_sc = auc(fpr, tpr)\n",
    "plt.plot(fpr, tpr, color='navy',label='ROC curve (area = %0.2f)' % auc_sc)\n",
    "plt.xlabel('False Positive Rate')\n",
    "plt.ylabel('True Positive Rate')\n",
    "plt.title('Receiver operating characteristic with test data')\n",
    "plt.legend()\n",
    "plt.show()"
   ]
  },
  {
   "cell_type": "code",
   "execution_count": 219,
   "metadata": {},
   "outputs": [],
   "source": [
    "# check learning curve\n",
    "from sklearn.model_selection import learning_curve\n",
    "\n",
    "train_sizes, train_scores, valid_scores= \\\n",
    "        learning_curve(real_svm, X_train, y_train, scoring='roc_auc',cv=StratifiedKFold(10),\n",
    "                       train_sizes=np.linspace(.1, 1.0, 5))"
   ]
  },
  {
   "cell_type": "code",
   "execution_count": 220,
   "metadata": {},
   "outputs": [],
   "source": [
    "train_scores_mean = np.mean(train_scores, axis=1)"
   ]
  },
  {
   "cell_type": "code",
   "execution_count": 221,
   "metadata": {},
   "outputs": [],
   "source": [
    "valid_scores_mean= np.mean(valid_scores, axis=1)"
   ]
  },
  {
   "cell_type": "code",
   "execution_count": 222,
   "metadata": {},
   "outputs": [
    {
     "data": {
      "image/png": "[encoded data removed]",
      "text/plain": [
       "<Figure size 432x288 with 1 Axes>"
      ]
     },
     "metadata": {
      "needs_background": "light"
     },
     "output_type": "display_data"
    }
   ],
   "source": [
    "plt.figure()\n",
    "plt.xlabel(\"training size\")\n",
    "plt.ylabel(\"roc_auc\")\n",
    "plt.plot(train_sizes, train_scores_mean, 'o-', color= \"r\",\n",
    "             label = \"Training score\")\n",
    "plt.plot(train_sizes, valid_scores_mean, 'o-', color = \"g\",\n",
    "             label = \"Cross-validation score\")\n",
    "plt.legend(loc=\"best\")\n",
    "plt.show()"
   ]
  },
  {
   "cell_type": "code",
   "execution_count": null,
   "metadata": {},
   "outputs": [],
   "source": []
  },
  {
   "cell_type": "markdown",
   "metadata": {},
   "source": [
    "# Load test public data"
   ]
  },
  {
   "cell_type": "code",
   "execution_count": 223,
   "metadata": {},
   "outputs": [],
   "source": [
    "test_public = pd.read_csv('data/features_test_public.csv', header = None)"
   ]
  },
  {
   "cell_type": "raw",
   "metadata": {},
   "source": [
    "tp_features_list = ['source_node', 'destination_node','jaccard_followers', 'jaccard_followees', 'cosine_followers',\n",
    "       'cosine_followees', 'num_followers_s', 'num_followers_d',\n",
    "       'num_followees_s', 'num_followees_d', 'inter_followers', 'inter_followees']\n",
    "\n",
    "test_public.columns = tp_features_list\n"
   ]
  },
  {
   "cell_type": "code",
   "execution_count": 224,
   "metadata": {},
   "outputs": [],
   "source": [
    "tp_features_list = ['source_node', 'destination_node','jaccard_followers', 'jaccard_followees', 'cosine_followers',\n",
    "       'cosine_followees', 'num_followers_s', 'num_followers_d',\n",
    "       'num_followees_s', 'num_followees_d', 'inter_followers',\n",
    "       'inter_followees', 'adar_index', 'follows_back', 'same_comp',\n",
    "       'shortest_path', 'page_rank_s', 'page_rank_d', 'katz_s', 'katz_d',\n",
    "       'hubs_s', 'hubs_d', 'authorities_s', 'authorities_d']\n",
    "\n",
    "test_public.columns = tp_features_list"
   ]
  },
  {
   "cell_type": "code",
   "execution_count": 225,
   "metadata": {},
   "outputs": [],
   "source": [
    "#test_public = test_public[['num_followers_s', 'num_followers_d']]\n",
    "#test_public = test_public[['num_followers_s', 'num_followees_s','shortest_path', 'page_rank_s', 'katz_s']]\n",
    "\n",
    "test_public = test_public[['cosine_followers', 'num_followers_s', 'num_followees_s',\\\n",
    "                           'shortest_path', 'page_rank_s', 'katz_s', 'hubs_s', 'authorities_s']]\n",
    "\n",
    "test_public = min_max_scaler.fit_transform(test_public)"
   ]
  },
  {
   "cell_type": "code",
   "execution_count": 226,
   "metadata": {},
   "outputs": [
    {
     "data": {
      "text/plain": [
       "(2000, 8)"
      ]
     },
     "execution_count": 226,
     "metadata": {},
     "output_type": "execute_result"
    }
   ],
   "source": [
    "test_public.shape"
   ]
  },
  {
   "cell_type": "code",
   "execution_count": 227,
   "metadata": {},
   "outputs": [
    {
     "data": {
      "text/plain": [
       "SVC(C=0.001, gamma=0.5, probability=True)"
      ]
     },
     "execution_count": 227,
     "metadata": {},
     "output_type": "execute_result"
    }
   ],
   "source": [
    "# real_svm = svm.SVC(C=1.0, kernel='rbf', probability= True)\n",
    "\n",
    "real_svm = svm.SVC(C=0.001, kernel='rbf', gamma = 0.5, probability= True)\n",
    "\n",
    "real_svm.fit(X_train,y_train)\n",
    "\n",
    "# gamma; 10 no penalty all labels 1\n",
    "# gamma; 2 1600\n",
    "# gamma; 1 1600\n",
    "# gamma; 0.5 $ C = 0.001 1500"
   ]
  },
  {
   "cell_type": "code",
   "execution_count": 228,
   "metadata": {},
   "outputs": [
    {
     "data": {
      "text/plain": [
       "array([[0.00000000e+00, 0.00000000e+00, 0.00000000e+00, ...,\n",
       "        1.78021790e-02, 0.00000000e+00, 0.00000000e+00],\n",
       "       [0.00000000e+00, 0.00000000e+00, 1.98220051e-04, ...,\n",
       "        0.00000000e+00, 5.91516108e-05, 0.00000000e+00],\n",
       "       [0.00000000e+00, 2.40384615e-02, 5.17387930e-04, ...,\n",
       "        2.31753349e-02, 3.79694506e-04, 1.22167017e-03],\n",
       "       ...,\n",
       "       [0.00000000e+00, 4.80769231e-03, 7.05528996e-05, ...,\n",
       "        5.91320812e-03, 4.89261364e-05, 6.47121188e-04],\n",
       "       [0.00000000e+00, 9.61538462e-03, 1.51184785e-04, ...,\n",
       "        1.92737609e-02, 1.03306137e-04, 4.40506149e-01],\n",
       "       [0.00000000e+00, 1.44230769e-02, 6.24897110e-04, ...,\n",
       "        1.66887436e-02, 2.86893247e-04, 1.05774785e-02]])"
      ]
     },
     "execution_count": 228,
     "metadata": {},
     "output_type": "execute_result"
    }
   ],
   "source": [
    "test_public"
   ]
  },
  {
   "cell_type": "code",
   "execution_count": 229,
   "metadata": {},
   "outputs": [],
   "source": [
    "prediction=real_svm.predict_proba(test_public)"
   ]
  },
  {
   "cell_type": "code",
   "execution_count": 230,
   "metadata": {},
   "outputs": [
    {
     "name": "stdout",
     "output_type": "stream",
     "text": [
      "1472\n"
     ]
    }
   ],
   "source": [
    "results = []\n",
    "count = 0\n",
    "for i in range(len(prediction)):\n",
    "    if prediction[i][1] > 0.5:\n",
    "        count +=1\n",
    "    results.append(prediction[i][1])\n",
    "\n",
    "print(count)"
   ]
  },
  {
   "cell_type": "code",
   "execution_count": null,
   "metadata": {},
   "outputs": [],
   "source": [
    "'jaccard_followers', 'jaccard_followees', 'cosine_followers',\n",
    "       'cosine_followees', 'num_followers_s', 'num_followers_d',\n",
    "       'num_followees_s', 'num_followees_d', 'inter_followers',\n",
    "       'inter_followees', 'adar_index', 'follows_back', 'same_comp',\n",
    "       'shortest_path', 'page_rank_s', 'page_rank_d', 'katz_s', 'katz_d',\n",
    "       'hubs_s', 'hubs_d', 'authorities_s', 'authorities_d'],\n",
    "      dtype='object'"
   ]
  },
  {
   "cell_type": "markdown",
   "metadata": {},
   "source": [
    "# test blocks below"
   ]
  },
  {
   "cell_type": "raw",
   "metadata": {},
   "source": [
    "test = pd.read_csv('data_from_train/1st_features_test.csv', header = None)"
   ]
  },
  {
   "cell_type": "raw",
   "metadata": {},
   "source": [
    "features_list = ['source_node', 'destination_node','indicator_link','jaccard_followers', 'jaccard_followees', 'cosine_followers',\n",
    "       'cosine_followees', 'num_followers_s', 'num_followers_d',\n",
    "       'num_followees_s', 'num_followees_d', 'inter_followers', 'inter_followees']\n",
    "\n",
    "test.columns = features_list\n",
    "t_y = test['indicator_link']\n",
    "t_X = test[['num_followers_s', 'num_followers_d']]"
   ]
  },
  {
   "cell_type": "raw",
   "metadata": {},
   "source": [
    "prediction=real_svm.predict_proba(t_X)"
   ]
  },
  {
   "cell_type": "raw",
   "metadata": {},
   "source": [
    "prediction"
   ]
  },
  {
   "cell_type": "markdown",
   "metadata": {},
   "source": [
    "# Export data"
   ]
  },
  {
   "cell_type": "code",
   "execution_count": 93,
   "metadata": {},
   "outputs": [
    {
     "name": "stdout",
     "output_type": "stream",
     "text": [
      "1581\n"
     ]
    }
   ],
   "source": [
    "results = []\n",
    "count = 0\n",
    "for i in range(len(prediction)):\n",
    "    if prediction[i][1] > 0.5:\n",
    "        count +=1\n",
    "    results.append(prediction[i][1])\n",
    "\n",
    "print(count)  \n",
    "# test_publis,, 1581"
   ]
  },
  {
   "cell_type": "code",
   "execution_count": 94,
   "metadata": {},
   "outputs": [],
   "source": [
    "file = open(\"test_public_results.csv\", \"w\")\n",
    "file.write(\"Id,Predicted\\n\")\n",
    "\n",
    "for i in range(len(results)):\n",
    "    file.write(str(i+1))\n",
    "    file.write(\",\")\n",
    "    file.write(str(results[i]))\n",
    "    if i != len(results) -1:\n",
    "        file.write(\"\\n\")\n",
    "file.close()"
   ]
  },
  {
   "cell_type": "code",
   "execution_count": null,
   "metadata": {},
   "outputs": [],
   "source": []
  }
 ],
 "metadata": {
  "kernelspec": {
   "display_name": "Python 3",
   "language": "python",
   "name": "python3"
  },
  "language_info": {
   "codemirror_mode": {
    "name": "ipython",
    "version": 3
   },
   "file_extension": ".py",
   "mimetype": "text/x-python",
   "name": "python",
   "nbconvert_exporter": "python",
   "pygments_lexer": "ipython3",
   "version": "3.8.3"
  }
 },
 "nbformat": 4,
 "nbformat_minor": 4
}
