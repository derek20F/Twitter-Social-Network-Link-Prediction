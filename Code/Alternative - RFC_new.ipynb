{
 "cells": [
  {
   "cell_type": "code",
   "execution_count": 1,
   "metadata": {},
   "outputs": [],
   "source": [
    "import pandas as pd\n",
    "import time\n",
    "import numpy\n",
    "import matplotlib.pyplot as plt\n",
    "from sklearn.ensemble import RandomForestClassifier\n",
    "from sklearn.metrics import classification_report\n",
    "\n",
    "from sklearn.model_selection import train_test_split\n",
    "\n",
    "from sklearn import preprocessing\n",
    "from sklearn.metrics import roc_curve, auc"
   ]
  },
  {
   "cell_type": "code",
   "execution_count": 11,
   "metadata": {},
   "outputs": [
    {
     "name": "stdout",
     "output_type": "stream",
     "text": [
      "(2000, 14)\n"
     ]
    }
   ],
   "source": [
    "#%% Load data for training and test\n",
    "train_and_test_pos = pd.read_csv(\"pos50k.csv\")\n",
    "train_and_test_neg = pd.read_csv(\"neg50k.csv\")\n",
    "pos = []\n",
    "neg = []\n",
    "\n",
    "\n",
    "for i in range(0,len(train_and_test_pos)):\n",
    "    pos.append(1)\n",
    "\n",
    "for i in range(0,len(train_and_test_neg)):\n",
    "    neg.append(0)\n",
    "\n",
    "train_and_test_pos['indicator_link'] = pos\n",
    "train_and_test_neg['indicator_link'] = neg\n",
    "\n",
    "test_public_feature = pd.read_csv(\"test2k.csv\")\n",
    "print(test_public_feature.shape)"
   ]
  },
  {
   "cell_type": "code",
   "execution_count": 12,
   "metadata": {},
   "outputs": [],
   "source": [
    "# Merge the pos and neg\n",
    "train_and_test_features = train_and_test_pos.append(train_and_test_neg,ignore_index=True)\n",
    "\n",
    "# Sort the column name\n",
    "train_and_test_features = train_and_test_features.reindex(sorted(train_and_test_features.columns), axis=1)\n",
    "test_public_features = test_public_feature.reindex(sorted(test_public_feature.columns), axis=1)\n",
    "\n",
    "\n",
    "# Split the train and test dataset\n",
    "train_features, test_features = train_test_split(train_and_test_features, test_size=0.2, random_state=9)\n",
    "train_labels = train_features['indicator_link']\n",
    "test_labels = test_features['indicator_link']\n",
    "train_features = train_features.drop(['indicator_link'], axis = 1)\n",
    "test_features = test_features.drop(['indicator_link'], axis = 1)\n"
   ]
  },
  {
   "cell_type": "code",
   "execution_count": 13,
   "metadata": {},
   "outputs": [],
   "source": [
    "#RFC and set the timer\n",
    "trainStartTime = time.time()\n",
    "rfc=RandomForestClassifier(n_estimators=50,n_jobs = -1,random_state =0, min_samples_leaf = 10, max_depth = 3, criterion = 'entropy')"
   ]
  },
  {
   "cell_type": "code",
   "execution_count": 20,
   "metadata": {},
   "outputs": [
    {
     "name": "stdout",
     "output_type": "stream",
     "text": [
      "========== Step 0 ==========\n",
      "Train score = 0.9985125\n",
      "Valid score = 0.9989\n",
      "========== Step 1 ==========\n",
      "Train score = 0.9985125\n",
      "Valid score = 0.9989\n",
      "========== Step 2 ==========\n",
      "Train score = 0.9985125\n",
      "Valid score = 0.9989\n",
      "========== Step 3 ==========\n",
      "Train score = 0.9985125\n",
      "Valid score = 0.9989\n",
      "========== Step 4 ==========\n",
      "Train score = 0.9985125\n",
      "Valid score = 0.9989\n",
      "========== Step 5 ==========\n",
      "Train score = 0.9985125\n",
      "Valid score = 0.9989\n",
      "========== Step 6 ==========\n",
      "Train score = 0.9985125\n",
      "Valid score = 0.9989\n",
      "========== Step 7 ==========\n",
      "Train score = 0.9985125\n",
      "Valid score = 0.9989\n",
      "========== Step 8 ==========\n",
      "Train score = 0.9985125\n",
      "Valid score = 0.9989\n",
      "========== Step 9 ==========\n",
      "Train score = 0.9985125\n",
      "Valid score = 0.9989\n",
      "Time spent on training is: 259.91979813575745 sec\n"
     ]
    }
   ],
   "source": [
    "#possible labels\n",
    "y_class = [0,1]\n",
    "\n",
    "#train and validate the RFC\n",
    "epochs = 10\n",
    "\n",
    "train_score_curve = []\n",
    "test_score_curve = []\n",
    "\n",
    "for i in range(epochs):\n",
    "    \n",
    "    #train_features, test_features, train_labels, test_labels = train_test_split(features, labels, test_size=0.1, random_state=0)\n",
    "    \n",
    "    rfc.fit(train_features, train_labels)\n",
    "    print(\"========== Step \" + str(i) + \" ==========\")\n",
    "    \n",
    "    \n",
    "    train_score = rfc.score(train_features, train_labels) \n",
    "    train_score_curve.append(train_score)\n",
    "    print(\"Train score = \" + str(train_score))\n",
    "    \n",
    "    test_score = rfc.score(test_features, test_labels)\n",
    "    test_score_curve.append(test_score)\n",
    "    print(\"Valid score = \" + str(test_score))\n",
    "    \n",
    "trainFinishTime = time.time()\n",
    "print(\"Time spent on training is: \" + str(trainFinishTime - trainStartTime) + \" sec\")"
   ]
  },
  {
   "cell_type": "code",
   "execution_count": 21,
   "metadata": {},
   "outputs": [
    {
     "name": "stdout",
     "output_type": "stream",
     "text": [
      "predict = [[9.69184579e-01 3.08154211e-02]\n",
      " [3.41157068e-02 9.65884293e-01]\n",
      " [9.82052281e-01 1.79477187e-02]\n",
      " ...\n",
      " [3.05498248e-04 9.99694502e-01]\n",
      " [3.19567377e-02 9.68043262e-01]\n",
      " [5.61678599e-04 9.99438321e-01]]\n"
     ]
    }
   ],
   "source": [
    "#Predict on the test set and get the probability\n",
    "test_predicted_probability = rfc.predict_proba(test_features)\n",
    "print(\"predict = \" + str(test_predicted_probability))\n",
    "\n"
   ]
  },
  {
   "cell_type": "code",
   "execution_count": 49,
   "metadata": {
    "scrolled": false
   },
   "outputs": [
    {
     "name": "stdout",
     "output_type": "stream",
     "text": [
      "[[0.07047379 0.92952621]\n",
      " [0.07594577 0.92405423]\n",
      " [0.00274973 0.99725027]\n",
      " ...\n",
      " [0.12801687 0.87198313]\n",
      " [0.13381416 0.86618584]\n",
      " [0.12801687 0.87198313]]\n",
      "#True = 1945\n",
      "#Fake = 55\n",
      "0.918771616138101\n",
      "1580\n",
      "420\n",
      "0.9215458906066193\n",
      "1580\n",
      "420\n",
      "[[0.07047379 0.93952621]\n",
      " [0.07594577 0.93405423]\n",
      " [0.00274973 1.        ]\n",
      " ...\n",
      " [0.12801687 0.86198313]\n",
      " [0.13381416 0.85618584]\n",
      " [0.12801687 0.86198313]]\n",
      "        Id  Predicted\n",
      "0        1   0.939526\n",
      "1        2   0.934054\n",
      "2        3   1.000000\n",
      "3        4   1.000000\n",
      "4        5   0.939874\n",
      "...    ...        ...\n",
      "1995  1996   0.861983\n",
      "1996  1997   0.994010\n",
      "1997  1998   0.861983\n",
      "1998  1999   0.856186\n",
      "1999  2000   0.861983\n",
      "\n",
      "[2000 rows x 2 columns]\n"
     ]
    }
   ],
   "source": [
    "# test on test-public features\n",
    "test_public_predicted_probability = rfc.predict_proba(test_public_features)\n",
    "test_public_predicted_label = rfc.predict(test_public_features)\n",
    "\n",
    "\n",
    "print(test_public_predicted_probability)\n",
    "\n",
    "count_true_link = 0\n",
    "count_fake_link = 0\n",
    "for instance in test_public_predicted_label:\n",
    "    if instance == 0:\n",
    "        count_fake_link = count_fake_link + 1\n",
    "    if instance == 1:\n",
    "        count_true_link = count_true_link + 1\n",
    "print(\"#True = \" + str(count_true_link))\n",
    "print(\"#Fake = \" + str(count_fake_link))\n",
    "\n",
    "\n",
    "t = 0\n",
    "pros = test_public_predicted_probability[:, 1]\n",
    "for pro in pros:\n",
    "    t = t + pro\n",
    "avg = t/2000\n",
    "print(avg)\n",
    "\n",
    "count1 = 0\n",
    "count2 = 0\n",
    "index = 0\n",
    "for pro in pros:\n",
    "    if pro >= avg:\n",
    "        if (pro + 0.01) >= 1:\n",
    "            test_public_predicted_probability[index, 1] = 1\n",
    "        elif (pro + 0.01) < 1:\n",
    "            test_public_predicted_probability[index, 1] = pro + 0.01\n",
    "        count1 = count1 + 1\n",
    "    elif pro < avg:\n",
    "        if (pro - 0.01) <= 0:\n",
    "            test_public_predicted_probability[index, 1] = 0\n",
    "        elif (pro - 0.01) > 0:\n",
    "            test_public_predicted_probability[index, 1] = pro - 0.01\n",
    "        count2 = count2 + 1\n",
    "    index = index + 1\n",
    "        \n",
    "print(count1)\n",
    "print(count2)\n",
    "\n",
    "t = 0\n",
    "pros = test_public_predicted_probability[:, 1]\n",
    "for pro in pros:\n",
    "    t = t + pro\n",
    "avg = t/2000\n",
    "print(avg)\n",
    "\n",
    "\n",
    "count1 = 0\n",
    "count2 = 0\n",
    "index = 0\n",
    "for pro in pros:\n",
    "    if pro >= avg:\n",
    "        \n",
    "        count1 = count1 + 1\n",
    "    elif pro < avg:\n",
    "        \n",
    "        count2 = count2 + 1\n",
    "    index = index + 1\n",
    "\n",
    "print(count1)\n",
    "print(count2)\n",
    "\n",
    "\n",
    "df_test_public_result = pd.DataFrame(columns=['Id', 'Predicted'])\n",
    "id_list = []\n",
    "for i in range(1,2001):\n",
    "        id_list.append(i)\n",
    "\n",
    "df_test_public_result['Id'] = id_list\n",
    "df_test_public_result['Predicted'] = test_public_predicted_probability[:,1]\n",
    "\n",
    "print(test_public_predicted_probability)\n",
    "print(df_test_public_result)"
   ]
  },
  {
   "cell_type": "code",
   "execution_count": 44,
   "metadata": {},
   "outputs": [],
   "source": [
    "import seaborn as sns\n",
    "import matplotlib.pyplot as plt\n",
    "from pylab import *\n",
    "from matplotlib.legend_handler import HandlerLine2D\n",
    "from sklearn.tree import DecisionTreeClassifier\n",
    "from sklearn.ensemble import RandomForestClassifier\n",
    "from sklearn.naive_bayes import GaussianNB\n",
    "from sklearn.model_selection import train_test_split\n",
    "from sklearn import metrics\n",
    "from sklearn.preprocessing import LabelEncoder\n",
    "from sklearn.metrics import recall_score, precision_score, accuracy_score, f1_score\n",
    "from sklearn.metrics import confusion_matrix,auc,roc_auc_score,roc_curve\n",
    "import warnings\n",
    "warnings.filterwarnings('ignore')"
   ]
  },
  {
   "cell_type": "code",
   "execution_count": 45,
   "metadata": {},
   "outputs": [
    {
     "data": {
      "image/png": "[encoded data removed]",
      "text/plain": [
       "<Figure size 1440x1440 with 1 Axes>"
      ]
     },
     "metadata": {},
     "output_type": "display_data"
    }
   ],
   "source": [
    "sns.set(rc={\"figure.figsize\": (20, 20)})\n",
    "subplot(2,2,1)\n",
    "ax = sns.distplot(test_public_predicted_probability[:, 1], bins=100, color='r')"
   ]
  },
  {
   "cell_type": "code",
   "execution_count": 50,
   "metadata": {},
   "outputs": [],
   "source": [
    "# save to csv\n",
    "df_test_public_result.to_csv('result_new_6.csv', index=False)"
   ]
  },
  {
   "cell_type": "code",
   "execution_count": 47,
   "metadata": {},
   "outputs": [
    {
     "data": {
      "image/png": "[encoded data removed]",
      "text/plain": [
       "<Figure size 1440x1440 with 1 Axes>"
      ]
     },
     "metadata": {},
     "output_type": "display_data"
    }
   ],
   "source": [
    "# %% ROC Curve & AUC\n",
    "fpr,tpr, thresholds = roc_curve(test_labels, test_predicted_probability[:,1])\n",
    "auc_sc = auc(fpr, tpr)\n",
    "plt.plot(fpr, tpr, color='navy',label='ROC curve (area = %0.2f)' % auc_sc)\n",
    "plt.xlabel('False Positive Rate')\n",
    "plt.ylabel('True Positive Rate')\n",
    "plt.title('Receiver operating characteristic with test data')\n",
    "plt.legend()\n",
    "plt.show()"
   ]
  },
  {
   "cell_type": "code",
   "execution_count": 48,
   "metadata": {},
   "outputs": [
    {
     "data": {
      "text/plain": [
       "Text(0, 0.5, 'Accuracy')"
      ]
     },
     "execution_count": 48,
     "metadata": {},
     "output_type": "execute_result"
    },
    {
     "data": {
      "image/png": "[encoded data removed]",
      "text/plain": [
       "<Figure size 1440x1440 with 1 Axes>"
      ]
     },
     "metadata": {},
     "output_type": "display_data"
    }
   ],
   "source": [
    "# %% Plot training and valid curve\n",
    "\n",
    "plt.close('all')\n",
    "x_axis = []\n",
    "for i in range(epochs):\n",
    "    x_axis.append(i+1)\n",
    "\n",
    "plt.figure()\n",
    "plt.plot(x_axis, train_score_curve, \"r\", x_axis, test_score_curve, \"b\")\n",
    "plt.legend(labels=['train','valid'],loc='best')\n",
    "plt.xlabel(\"Training Step\")\n",
    "plt.ylabel(\"Accuracy\")"
   ]
  },
  {
   "cell_type": "code",
   "execution_count": null,
   "metadata": {},
   "outputs": [],
   "source": []
  }
 ],
 "metadata": {
  "kernelspec": {
   "display_name": "Python 3",
   "language": "python",
   "name": "python3"
  },
  "language_info": {
   "codemirror_mode": {
    "name": "ipython",
    "version": 3
   },
   "file_extension": ".py",
   "mimetype": "text/x-python",
   "name": "python",
   "nbconvert_exporter": "python",
   "pygments_lexer": "ipython3",
   "version": "3.7.6"
  }
 },
 "nbformat": 4,
 "nbformat_minor": 4
}
