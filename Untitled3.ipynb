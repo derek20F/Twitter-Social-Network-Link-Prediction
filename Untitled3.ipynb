{
 "cells": [
  {
   "cell_type": "code",
   "execution_count": 2,
   "metadata": {},
   "outputs": [],
   "source": [
    "import numpy as np\n",
    "import pandas as pd\n",
    "import matplotlib.pyplot as ply\n",
    "from sklearn.model_selection import train_test_split"
   ]
  },
  {
   "cell_type": "code",
   "execution_count": 28,
   "metadata": {},
   "outputs": [],
   "source": [
    "all_data = open(\"train.txt\").read().strip()\n",
    "lines = all_data.split(\"\\n\")"
   ]
  },
  {
   "cell_type": "code",
   "execution_count": 29,
   "metadata": {},
   "outputs": [],
   "source": [
    "datafields = []\n",
    "for line in lines:\n",
    "    datafields.append(line.split(\"\\t\"))"
   ]
  },
  {
   "cell_type": "code",
   "execution_count": 30,
   "metadata": {},
   "outputs": [],
   "source": [
    "dict = {}\n",
    "\n",
    "for line in datafields:\n",
    "    dict[line[0]] = line[1:-1]\n",
    "    "
   ]
  },
  {
   "cell_type": "code",
   "execution_count": 31,
   "metadata": {},
   "outputs": [],
   "source": [
    "def get_neighbours(nodeA):\n",
    "    if nodeA in dict.keys():\n",
    "        values = dict[nodeA]\n",
    "        return values\n",
    "    #else:\n",
    "    #    print(\"not in keys \", nodeA)\n",
    "    return []"
   ]
  },
  {
   "cell_type": "markdown",
   "metadata": {},
   "source": [
    "# IGNORE this part \n",
    "# function to extract features from a set of two nodes (nodeX, nodeY)\n",
    "\n",
    "def extract_features(nodeX, nodeY):\n",
    "    edges_nodeX = get_nb_edges(nodeX)\n",
    "    edges_nodeY = get_nb_edges(nodeY)\n",
    "    f1 = len(edges_nodeX)   # the number of friends in nodeX\n",
    "    f2 = len(edges_nodeY)   # the number of friends in nodeY\n",
    "    features = [f1, f2]\n",
    "    return features\n",
    "    "
   ]
  },
  {
   "cell_type": "code",
   "execution_count": 118,
   "metadata": {},
   "outputs": [],
   "source": [
    "def extract_features(nodeX, nodeY):\n",
    "    edges_nodeX = get_neighbours(nodeX)\n",
    "    edges_nodeY = get_neighbours(nodeY)\n",
    "    common_nodes = []\n",
    "    \n",
    "    f1 = len(edges_nodeX)   # the number of friends in nodeX\n",
    "    f2 = len(edges_nodeY)   # the number of friends in nodeY\n",
    "    \n",
    "    if len(edges_nodeX) != 0 and len(edges_nodeY) != 0:\n",
    "        for i in range(len(edges_nodeX)):\n",
    "            for j in range(len(edges_nodeY)):\n",
    "                if edges_nodeX[i] == edges_nodeY[j]:\n",
    "                    common_nodes.append(edges_nodeX[i])\n",
    "            \n",
    "        f3 = len(common_nodes)  # method 4 nb of common friends\n",
    "        f4 = 2*f3 / (f1+f2)       # method 5\n",
    "        f5 = f3 / min(f1, f2)   # method 9  \n",
    "    else: \n",
    "        f3 = 0 \n",
    "        f4 = 0\n",
    "        f5 = 0\n",
    "        \n",
    "    total_sum = 0\n",
    "    \n",
    "    if(len(common_nodes)):\n",
    "        for node in common_nodes:\n",
    "            neighbours_cm = get_neighbours(node)    # the common node's friends\n",
    "            total_sum += len(neighbours_cm)         # how many friends our common friends have\n",
    "    f6 = 0\n",
    "    if total_sum > 0 :\n",
    "        f6 = 1/total_sum\n",
    "                  \n",
    "    features = [f1, f2, f3, f4, f5, f6]\n",
    "    return features"
   ]
  },
  {
   "cell_type": "code",
   "execution_count": 122,
   "metadata": {},
   "outputs": [],
   "source": [
    "arr = np.array(['Source', 'Sink'])\n",
    "for k, v in dict.items():\n",
    "    if len(v) > 0:\n",
    "        for i in range(len(v)):\n",
    "            arr2 = np.array([k, v[i]])\n",
    "            arr = np.vstack((arr, arr2))\n",
    "            \n",
    "        "
   ]
  },
  {
   "cell_type": "code",
   "execution_count": 125,
   "metadata": {},
   "outputs": [],
   "source": [
    "feature_file = open(\"feature.txt\", \"w\")\n",
    "size = arr.shape[0]\n",
    "labels = [\"nodeX\", \"nodeY\", \"f1\", \"f2\", \"f3\", \"f4\", \"f5\", \"f6\"]\n",
    "for label in labels:\n",
    "    feature_file.write(label)\n",
    "    feature_file.write(\"\\t\")\n",
    "feature_file.write(\"\\n\")\n",
    "\n",
    "for i in range(1, size):\n",
    "    nodeX = arr[i][0]\n",
    "    nodeY = arr[i][1]\n",
    "    features = extract_features(nodeX, nodeY)\n",
    "    feature_file.write(nodeX)\n",
    "    feature_file.write(\"\\t\")\n",
    "    feature_file.write(nodeY)\n",
    "    feature_file.write(\"\\t\")\n",
    "    for feature in features:\n",
    "        feature_file.write(str(feature))\n",
    "        feature_file.write(\"\\t\")\n",
    "    feature_file.write(\"\\n\")\n",
    "\n",
    "feature_file.close()\n"
   ]
  },
  {
   "cell_type": "code",
   "execution_count": null,
   "metadata": {},
   "outputs": [],
   "source": []
  }
 ],
 "metadata": {
  "kernelspec": {
   "display_name": "Python 3",
   "language": "python",
   "name": "python3"
  },
  "language_info": {
   "codemirror_mode": {
    "name": "ipython",
    "version": 3
   },
   "file_extension": ".py",
   "mimetype": "text/x-python",
   "name": "python",
   "nbconvert_exporter": "python",
   "pygments_lexer": "ipython3",
   "version": "3.8.3"
  }
 },
 "nbformat": 4,
 "nbformat_minor": 4
}
